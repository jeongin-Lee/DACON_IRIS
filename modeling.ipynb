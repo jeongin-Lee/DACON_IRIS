{
 "cells": [
  {
   "cell_type": "markdown",
   "metadata": {},
   "source": [
    "# Iris 꽃받침 / 꽃잎 너비 예측 경진대회 (DACON)\n",
    "붓꽃의 종류, 꽃받침, 꽃잎의 길이를 이용해 꽃받침의 너비와 꽃잎의 너비를 예측해보세요."
   ]
  },
  {
   "cell_type": "code",
   "execution_count": 194,
   "metadata": {},
   "outputs": [],
   "source": [
    "import pandas as pd\n",
    "import numpy as np"
   ]
  },
  {
   "cell_type": "markdown",
   "metadata": {},
   "source": [
    "## 3. 모델링\n",
    "-> 시각화 결과  \n",
    "1) 데이터 개수가 많지않고  \n",
    "2) 꽃받침과 꽃잎모두 길이에 따라 우상향 하는 모습이 보여짐.  \n",
    "3) 꽃받침에서 setosa가 다른종과 확연히 구분되는 것으로 보여짐.           \n",
    "4) 꽃잎에서는 꽃받침에 비해 종별로 분포가 확실히 구분되는 모습이 보여짐. (파->노->초)  \n",
    "\n",
    "\n",
    "-----------------\n",
    "종별로 분포 차이 보이므로 standard scaler ?"
   ]
  },
  {
   "cell_type": "markdown",
   "metadata": {},
   "source": [
    "### 1) feature engineering"
   ]
  },
  {
   "cell_type": "markdown",
   "metadata": {},
   "source": [
    "(1) 훈련세트 만들기 (id열 제거, 범주형데이터처리)"
   ]
  },
  {
   "cell_type": "code",
   "execution_count": 195,
   "metadata": {},
   "outputs": [],
   "source": [
    "iris = pd.read_csv('iris_train.csv')\n",
    "tr_input = iris.iloc[:,1:4]\n",
    "tr_target = iris.iloc[:,4:6]"
   ]
  },
  {
   "cell_type": "code",
   "execution_count": 196,
   "metadata": {},
   "outputs": [
    {
     "name": "stdout",
     "output_type": "stream",
     "text": [
      "       species  sepal length (cm)  petal length (cm)\n",
      "0       setosa                4.4                1.4\n",
      "1   versicolor                6.4                4.5\n",
      "2    virginica                6.2                4.8\n",
      "3    virginica                7.2                6.1\n",
      "4       setosa                4.9                1.4\n",
      "..         ...                ...                ...\n",
      "70  versicolor                6.5                4.6\n",
      "71  versicolor                5.6                3.6\n",
      "72  versicolor                6.2                4.5\n",
      "73  versicolor                4.9                3.3\n",
      "74  versicolor                6.9                4.9\n",
      "\n",
      "[75 rows x 3 columns]     sepal width (cm)  petal width (cm)\n",
      "0                2.9               0.2\n",
      "1                3.2               1.5\n",
      "2                2.8               1.8\n",
      "3                3.6               2.5\n",
      "4                3.0               0.2\n",
      "..               ...               ...\n",
      "70               2.8               1.5\n",
      "71               2.9               1.3\n",
      "72               2.2               1.5\n",
      "73               2.4               1.0\n",
      "74               3.1               1.5\n",
      "\n",
      "[75 rows x 2 columns]\n"
     ]
    }
   ],
   "source": [
    "print(tr_input,tr_target)"
   ]
  },
  {
   "cell_type": "code",
   "execution_count": 197,
   "metadata": {},
   "outputs": [],
   "source": [
    "def set(species):\n",
    "    if species == 'setosa':\n",
    "        return 1\n",
    "    else :\n",
    "        return 0\n",
    "    \n",
    "def ver(species):\n",
    "    if species == 'versicolor':\n",
    "        return 1\n",
    "    else :\n",
    "        return 0   \n",
    "    \n",
    "def vir(species):\n",
    "    if species == 'virginica':\n",
    "        return 1\n",
    "    else :\n",
    "        return 0        "
   ]
  },
  {
   "cell_type": "code",
   "execution_count": 198,
   "metadata": {},
   "outputs": [],
   "source": [
    "species = tr_input['species']\n",
    "tr_input['setosa'] = species.apply(set)\n",
    "tr_input['versicolor'] = species.apply(ver)\n",
    "tr_input['virginica'] = species.apply(vir)\n",
    "del tr_input['species']"
   ]
  },
  {
   "cell_type": "code",
   "execution_count": 199,
   "metadata": {},
   "outputs": [],
   "source": [
    "tr_input.head() # 훈련세트 완성\n",
    "tr_sep = tr_input.drop(['petal length (cm)'],axis=1)\n",
    "tr_pet = tr_input.drop(['sepal length (cm)'],axis=1)\n",
    "tr_target_sep = tr_target['sepal width (cm)']\n",
    "tr_target_pet = tr_target['petal width (cm)']"
   ]
  },
  {
   "cell_type": "code",
   "execution_count": 200,
   "metadata": {},
   "outputs": [
    {
     "data": {
      "text/html": [
       "<div>\n",
       "<style scoped>\n",
       "    .dataframe tbody tr th:only-of-type {\n",
       "        vertical-align: middle;\n",
       "    }\n",
       "\n",
       "    .dataframe tbody tr th {\n",
       "        vertical-align: top;\n",
       "    }\n",
       "\n",
       "    .dataframe thead th {\n",
       "        text-align: right;\n",
       "    }\n",
       "</style>\n",
       "<table border=\"1\" class=\"dataframe\">\n",
       "  <thead>\n",
       "    <tr style=\"text-align: right;\">\n",
       "      <th></th>\n",
       "      <th>petal length (cm)</th>\n",
       "      <th>setosa</th>\n",
       "      <th>versicolor</th>\n",
       "      <th>virginica</th>\n",
       "    </tr>\n",
       "  </thead>\n",
       "  <tbody>\n",
       "    <tr>\n",
       "      <th>0</th>\n",
       "      <td>1.4</td>\n",
       "      <td>1</td>\n",
       "      <td>0</td>\n",
       "      <td>0</td>\n",
       "    </tr>\n",
       "    <tr>\n",
       "      <th>1</th>\n",
       "      <td>4.5</td>\n",
       "      <td>0</td>\n",
       "      <td>1</td>\n",
       "      <td>0</td>\n",
       "    </tr>\n",
       "    <tr>\n",
       "      <th>2</th>\n",
       "      <td>4.8</td>\n",
       "      <td>0</td>\n",
       "      <td>0</td>\n",
       "      <td>1</td>\n",
       "    </tr>\n",
       "    <tr>\n",
       "      <th>3</th>\n",
       "      <td>6.1</td>\n",
       "      <td>0</td>\n",
       "      <td>0</td>\n",
       "      <td>1</td>\n",
       "    </tr>\n",
       "    <tr>\n",
       "      <th>4</th>\n",
       "      <td>1.4</td>\n",
       "      <td>1</td>\n",
       "      <td>0</td>\n",
       "      <td>0</td>\n",
       "    </tr>\n",
       "    <tr>\n",
       "      <th>...</th>\n",
       "      <td>...</td>\n",
       "      <td>...</td>\n",
       "      <td>...</td>\n",
       "      <td>...</td>\n",
       "    </tr>\n",
       "    <tr>\n",
       "      <th>70</th>\n",
       "      <td>4.6</td>\n",
       "      <td>0</td>\n",
       "      <td>1</td>\n",
       "      <td>0</td>\n",
       "    </tr>\n",
       "    <tr>\n",
       "      <th>71</th>\n",
       "      <td>3.6</td>\n",
       "      <td>0</td>\n",
       "      <td>1</td>\n",
       "      <td>0</td>\n",
       "    </tr>\n",
       "    <tr>\n",
       "      <th>72</th>\n",
       "      <td>4.5</td>\n",
       "      <td>0</td>\n",
       "      <td>1</td>\n",
       "      <td>0</td>\n",
       "    </tr>\n",
       "    <tr>\n",
       "      <th>73</th>\n",
       "      <td>3.3</td>\n",
       "      <td>0</td>\n",
       "      <td>1</td>\n",
       "      <td>0</td>\n",
       "    </tr>\n",
       "    <tr>\n",
       "      <th>74</th>\n",
       "      <td>4.9</td>\n",
       "      <td>0</td>\n",
       "      <td>1</td>\n",
       "      <td>0</td>\n",
       "    </tr>\n",
       "  </tbody>\n",
       "</table>\n",
       "<p>75 rows × 4 columns</p>\n",
       "</div>"
      ],
      "text/plain": [
       "    petal length (cm)  setosa  versicolor  virginica\n",
       "0                 1.4       1           0          0\n",
       "1                 4.5       0           1          0\n",
       "2                 4.8       0           0          1\n",
       "3                 6.1       0           0          1\n",
       "4                 1.4       1           0          0\n",
       "..                ...     ...         ...        ...\n",
       "70                4.6       0           1          0\n",
       "71                3.6       0           1          0\n",
       "72                4.5       0           1          0\n",
       "73                3.3       0           1          0\n",
       "74                4.9       0           1          0\n",
       "\n",
       "[75 rows x 4 columns]"
      ]
     },
     "execution_count": 200,
     "metadata": {},
     "output_type": "execute_result"
    }
   ],
   "source": [
    "tr_pet"
   ]
  },
  {
   "cell_type": "code",
   "execution_count": 201,
   "metadata": {},
   "outputs": [
    {
     "name": "stdout",
     "output_type": "stream",
     "text": [
      "0     2.9\n",
      "1     3.2\n",
      "2     2.8\n",
      "3     3.6\n",
      "4     3.0\n",
      "     ... \n",
      "70    2.8\n",
      "71    2.9\n",
      "72    2.2\n",
      "73    2.4\n",
      "74    3.1\n",
      "Name: sepal width (cm), Length: 75, dtype: float64 0     0.2\n",
      "1     1.5\n",
      "2     1.8\n",
      "3     2.5\n",
      "4     0.2\n",
      "     ... \n",
      "70    1.5\n",
      "71    1.3\n",
      "72    1.5\n",
      "73    1.0\n",
      "74    1.5\n",
      "Name: petal width (cm), Length: 75, dtype: float64\n"
     ]
    }
   ],
   "source": [
    "print(tr_target_sep,tr_target_pet)"
   ]
  },
  {
   "cell_type": "markdown",
   "metadata": {},
   "source": [
    "## 2) 모델 적합하기"
   ]
  },
  {
   "cell_type": "code",
   "execution_count": 202,
   "metadata": {},
   "outputs": [],
   "source": [
    "# 평가지표\n",
    "\n",
    "# def MAE(true, pred):\n",
    "#     score = np.mean(np.abs(true-pred))\n",
    "#     return score"
   ]
  },
  {
   "cell_type": "markdown",
   "metadata": {},
   "source": [
    "## 1. 선형회귀 (단변량회귀로 y 나누어서 추정)"
   ]
  },
  {
   "cell_type": "markdown",
   "metadata": {},
   "source": [
    "### (1) 단순선형회귀"
   ]
  },
  {
   "cell_type": "code",
   "execution_count": 203,
   "metadata": {},
   "outputs": [],
   "source": [
    "# tr1_sep = tr_input[species == 'setosa']['sepal length (cm)']\n",
    "# tr2_sep = tr_input[species == 'versicolor']['sepal length (cm)']\n",
    "# tr3_sep = tr_input[species == 'virginica']['sepal length (cm)']"
   ]
  },
  {
   "cell_type": "code",
   "execution_count": 204,
   "metadata": {},
   "outputs": [],
   "source": [
    "# tr1_pet = tr_input[species == 'setosa']['sepal length (cm)']\n",
    "# tr2_pet = tr_input[species == 'versicolor']['sepal length (cm)']\n",
    "# tr3_pet = tr_input[species == 'virginica']['sepal length (cm)']"
   ]
  },
  {
   "cell_type": "markdown",
   "metadata": {},
   "source": [
    "### (2) 다중선형회귀 "
   ]
  },
  {
   "cell_type": "code",
   "execution_count": 205,
   "metadata": {},
   "outputs": [],
   "source": [
    "from sklearn.preprocessing import PolynomialFeatures\n",
    "poly = PolynomialFeatures(include_bias=False)\n",
    "\n",
    "# poly fit\n",
    "poly.fit(tr_sep)\n",
    "poly.fit(tr_pet)\n",
    "\n",
    "sep_poly = poly.transform(tr_sep)\n",
    "pet_poly = poly.transform(tr_pet)"
   ]
  },
  {
   "cell_type": "markdown",
   "metadata": {},
   "source": [
    "* (+) k-폴드 교차검증  \n",
    "\n",
    "    *  정답 데이터가 없으므로 5-폴드 교차 검증으로 평가\n",
    "    \n",
    "\n",
    "* 교차검증이란 ?\n",
    "    검증세트를 떼어내어 평가하는 과정을 여러번 반복하고 이 점수를 평균하여 최종 검증 점수를 얻음. \n",
    "         \n",
    "         from sklearn.model_selsection import cross_validate\n",
    "         scores = cross_validate(평가모델,train_input,train_target)\n",
    "         scores\n",
    "\n",
    "* score의 결과로 fit_time, score_time,test score 키를 가진 딕셔너리를 반환\n",
    "* 교차검증의 점수는 test_Score에 담긴 5개 값들의 평균으로 구함\n"
   ]
  },
  {
   "cell_type": "code",
   "execution_count": 206,
   "metadata": {},
   "outputs": [
    {
     "data": {
      "text/plain": [
       "{'fit_time': array([0.00498557, 0.00199509, 0.00199509, 0.00199533, 0.00199127]),\n",
       " 'score_time': array([0.00099659, 0.00099587, 0.00099659, 0.00099754, 0.        ]),\n",
       " 'test_score': array([-0.20208687, -0.25175582, -0.1816483 , -0.21892794, -0.17866247])}"
      ]
     },
     "execution_count": 206,
     "metadata": {},
     "output_type": "execute_result"
    }
   ],
   "source": [
    "# sepal width 교차검증\n",
    "from sklearn.model_selection import cross_validate\n",
    "\n",
    "scores = cross_validate(lr,sep_poly, tr_target_sep,cv=5,scoring='neg_mean_absolute_error')\n",
    "scores\n",
    "# 사이킷런은 Neg MAE만 제공"
   ]
  },
  {
   "cell_type": "code",
   "execution_count": 207,
   "metadata": {},
   "outputs": [
    {
     "data": {
      "text/plain": [
       "0.20661628000379761"
      ]
     },
     "execution_count": 207,
     "metadata": {},
     "output_type": "execute_result"
    }
   ],
   "source": [
    "np.mean(scores['test_score'])*(-1)"
   ]
  },
  {
   "cell_type": "code",
   "execution_count": 208,
   "metadata": {},
   "outputs": [
    {
     "data": {
      "text/plain": [
       "{'fit_time': array([0.01198602, 0.00199533, 0.00299168, 0.00400805, 0.00498939]),\n",
       " 'score_time': array([0.00197339, 0.00502872, 0.00099707, 0.00097823, 0.0009973 ]),\n",
       " 'test_score': array([-0.10430386, -0.14669654, -0.16863147, -0.14616677, -0.14441042])}"
      ]
     },
     "execution_count": 208,
     "metadata": {},
     "output_type": "execute_result"
    }
   ],
   "source": [
    "# petal width 교차검증\n",
    "\n",
    "scores = cross_validate(lr,pet_poly, tr_target_pet,cv=5,scoring='neg_mean_absolute_error')\n",
    "scores"
   ]
  },
  {
   "cell_type": "code",
   "execution_count": 209,
   "metadata": {},
   "outputs": [
    {
     "data": {
      "text/plain": [
       "0.14204181071578806"
      ]
     },
     "execution_count": 209,
     "metadata": {},
     "output_type": "execute_result"
    }
   ],
   "source": [
    "np.mean(scores['test_score'])*(-1)"
   ]
  },
  {
   "cell_type": "code",
   "execution_count": 210,
   "metadata": {},
   "outputs": [
    {
     "data": {
      "text/plain": [
       "['x0',\n",
       " 'x1',\n",
       " 'x2',\n",
       " 'x3',\n",
       " 'x0^2',\n",
       " 'x0 x1',\n",
       " 'x0 x2',\n",
       " 'x0 x3',\n",
       " 'x1^2',\n",
       " 'x1 x2',\n",
       " 'x1 x3',\n",
       " 'x2^2',\n",
       " 'x2 x3',\n",
       " 'x3^2']"
      ]
     },
     "execution_count": 210,
     "metadata": {},
     "output_type": "execute_result"
    }
   ],
   "source": [
    "poly.get_feature_names() # pet "
   ]
  },
  {
   "cell_type": "markdown",
   "metadata": {},
   "source": [
    "ㄴ>  1) petal과 sepal width간 score차이가 매우 큼.  \n",
    "ㄴ>  2) 범주형 변환하면서 추가된 데이터들로 의미없는 변수 생김 "
   ]
  },
  {
   "cell_type": "markdown",
   "metadata": {},
   "source": [
    "__________"
   ]
  },
  {
   "cell_type": "code",
   "execution_count": 211,
   "metadata": {},
   "outputs": [
    {
     "data": {
      "text/plain": [
       "{'fit_time': array([0.01198602, 0.00199533, 0.00299168, 0.00400805, 0.00498939]),\n",
       " 'score_time': array([0.00197339, 0.00502872, 0.00099707, 0.00097823, 0.0009973 ]),\n",
       " 'test_score': array([-0.10430386, -0.14669654, -0.16863147, -0.14616677, -0.14441042])}"
      ]
     },
     "execution_count": 211,
     "metadata": {},
     "output_type": "execute_result"
    }
   ],
   "source": [
    "### poly 없이 sepal width 교차검증\n",
    "\n",
    "socres = cross_validate(lr,tr_sep, tr_target_sep,cv=5,scoring='neg_mean_absolute_error')\n",
    "scores"
   ]
  },
  {
   "cell_type": "code",
   "execution_count": 212,
   "metadata": {},
   "outputs": [
    {
     "data": {
      "text/plain": [
       "0.14204181071578806"
      ]
     },
     "execution_count": 212,
     "metadata": {},
     "output_type": "execute_result"
    }
   ],
   "source": [
    "np.mean(scores['test_score'])*(-1) # poly 적용시 0.20661628000379761 \n",
    "\n",
    "# poly 적용 결과가 더 좋음"
   ]
  },
  {
   "cell_type": "code",
   "execution_count": 213,
   "metadata": {},
   "outputs": [
    {
     "data": {
      "text/plain": [
       "{'fit_time': array([0.01097178, 0.00896907, 0.00398684, 0.00498652, 0.00299168]),\n",
       " 'score_time': array([0.00797892, 0.00199628, 0.00199461, 0.00199509, 0.00199485]),\n",
       " 'test_score': array([-0.10784067, -0.13186018, -0.17402951, -0.13456578, -0.14259946])}"
      ]
     },
     "execution_count": 213,
     "metadata": {},
     "output_type": "execute_result"
    }
   ],
   "source": [
    "### poly 없이 petal width 교차검증\n",
    "\n",
    "scores = cross_validate(lr,tr_pet, tr_target_pet,cv=5,scoring='neg_mean_absolute_error')\n",
    "scores"
   ]
  },
  {
   "cell_type": "code",
   "execution_count": 214,
   "metadata": {},
   "outputs": [
    {
     "data": {
      "text/plain": [
       "0.1381791211512438"
      ]
     },
     "execution_count": 214,
     "metadata": {},
     "output_type": "execute_result"
    }
   ],
   "source": [
    "np.mean(scores['test_score'])*(-1) # poly 적용시 0.14204181071578806 \n",
    "\n",
    "# poㅣy 미적용시 결과가 더 좋음."
   ]
  },
  {
   "cell_type": "markdown",
   "metadata": {},
   "source": [
    "## 2. 앙상블 -  XGBoost "
   ]
  },
  {
   "cell_type": "markdown",
   "metadata": {},
   "source": [
    "\n",
    "#### XGBoost\n",
    "- XGBoost는 자체적으로 정규화 파라미터 제공(gamma, alpha, lambda)\n",
    "- XGBoost 파라미터\n",
    "  - learning_rate : 오버피팅을 막기위해 사용되는 축소 단계 크기로 0과 1사이의 값이다.\n",
    "  - max_depth : 부스팅 라운드 동안 각각의 트리가 얼마나 깊게 성장할 수 있는지 결정\n",
    "  - subsample : 트리당 사용되는 샘플의 비율. 낮은 값은 언더피팅으로 이어질 수 있다.\n",
    "  - colsample_bytree : 트리당 사용되는 특성의 비율. 높은 값은 오버피팅으로 이저질 수 있다.\n",
    "  - n_estimators : 구축하고자하는 트리의 개수\n",
    "  - objective : 손실함수 결정\n",
    "  - reg:linear : 회귀문제\n",
    "  - reg:logistic : 오직 결정(선택)만 있는 분류 문제\n",
    "  - binary:logistic : 확률을 포함하는 분류 문제\n",
    "- Feature Importance"
   ]
  },
  {
   "cell_type": "code",
   "execution_count": 215,
   "metadata": {},
   "outputs": [
    {
     "name": "stdout",
     "output_type": "stream",
     "text": [
      "Requirement already satisfied: xgboost in c:\\anaconda\\lib\\site-packages (1.5.1)\n",
      "Requirement already satisfied: numpy in c:\\anaconda\\lib\\site-packages (from xgboost) (1.18.5)\n",
      "Requirement already satisfied: scipy in c:\\anaconda\\lib\\site-packages (from xgboost) (1.5.0)\n"
     ]
    }
   ],
   "source": [
    "!pip install xgboost"
   ]
  },
  {
   "cell_type": "code",
   "execution_count": 216,
   "metadata": {},
   "outputs": [],
   "source": [
    "import xgboost as xgb\n",
    "from xgboost import XGBRegressor, plot_tree, plot_importance\n",
    "\n",
    "reg = XGBRegressor(max_depth = 3, n_estimators = 100)"
   ]
  },
  {
   "cell_type": "code",
   "execution_count": 217,
   "metadata": {},
   "outputs": [
    {
     "data": {
      "text/plain": [
       "{'fit_time': array([0.14860058, 0.13862658, 0.14062381, 0.14361477, 0.14760327]),\n",
       " 'score_time': array([0.01197028, 0.01396346, 0.01296616, 0.01296473, 0.01396275]),\n",
       " 'test_score': array([-0.34122555, -0.31523401, -0.32876084, -0.26012327, -0.30825504])}"
      ]
     },
     "execution_count": 217,
     "metadata": {},
     "output_type": "execute_result"
    }
   ],
   "source": [
    "# 교차검증\n",
    "scores = cross_validate(reg,tr_input,tr_target_sep,scoring='neg_mean_absolute_error')\n",
    "scores"
   ]
  },
  {
   "cell_type": "code",
   "execution_count": 218,
   "metadata": {},
   "outputs": [
    {
     "data": {
      "text/plain": [
       "0.3107197405497233"
      ]
     },
     "execution_count": 218,
     "metadata": {},
     "output_type": "execute_result"
    }
   ],
   "source": [
    "np.mean(scores['test_score'])*(-1) #0.3107197405497233"
   ]
  },
  {
   "cell_type": "markdown",
   "metadata": {},
   "source": [
    "## 3) 하이퍼파라미터 튜닝"
   ]
  },
  {
   "cell_type": "markdown",
   "metadata": {},
   "source": [
    "### CV후 교차검증 - sepal width"
   ]
  },
  {
   "cell_type": "code",
   "execution_count": 219,
   "metadata": {},
   "outputs": [
    {
     "name": "stdout",
     "output_type": "stream",
     "text": [
      "{'learning_rate': 0.4, 'max_depth': 3, 'n_estimators': 10}\n"
     ]
    }
   ],
   "source": [
    "from sklearn.model_selection import GridSearchCV\n",
    "reg_cv = XGBRegressor()\n",
    "xgb_params = {'max_depth' : [3,4, 5, 6],\n",
    "              'n_estimators' : [10, 20, 50, 100, 500,1000],\n",
    "              'learning_rate' : [0.1, 0.2, 0.4, 0.6, 0.8, 1]}\n",
    "grid = GridSearchCV(estimator = reg_cv, param_grid = xgb_params, scoring = 'neg_mean_absolute_error')\n",
    "\n",
    "grid.fit(tr_sep, tr_target_sep)\n",
    "best_param = grid.best_params_\n",
    "print(best_param)"
   ]
  },
  {
   "cell_type": "code",
   "execution_count": 220,
   "metadata": {},
   "outputs": [],
   "source": [
    "reg = XGBRegressor(max_depth = 3, n_estimators = 10,learning_rate = 0.4 )"
   ]
  },
  {
   "cell_type": "code",
   "execution_count": 221,
   "metadata": {},
   "outputs": [
    {
     "data": {
      "text/plain": [
       "{'fit_time': array([0.034899  , 0.02991891, 0.03091526, 0.02991915, 0.031914  ]),\n",
       " 'score_time': array([0.01396465, 0.01296449, 0.01296759, 0.01297593, 0.01297164]),\n",
       " 'test_score': array([-0.25707975, -0.29209839, -0.2099418 , -0.22838141, -0.23353546])}"
      ]
     },
     "execution_count": 221,
     "metadata": {},
     "output_type": "execute_result"
    }
   ],
   "source": [
    "scores = cross_validate(reg,tr_sep,tr_target_sep,scoring='neg_mean_absolute_error')\n",
    "scores"
   ]
  },
  {
   "cell_type": "code",
   "execution_count": 222,
   "metadata": {},
   "outputs": [
    {
     "data": {
      "text/plain": [
       "0.2442073631286621"
      ]
     },
     "execution_count": 222,
     "metadata": {},
     "output_type": "execute_result"
    }
   ],
   "source": [
    "np.mean(scores['test_score'])*(-1) #0.244207"
   ]
  },
  {
   "cell_type": "code",
   "execution_count": 223,
   "metadata": {},
   "outputs": [],
   "source": [
    "## feature별 중요도 파악 - 시각화\n",
    "# import matplotlib.pyplot as \n",
    "# pltreg.fit(train_input, train_target)\n",
    "# fig, ax = plt.subplots(figsize=(9,10))\n",
    "# plot_importance(reg, ax=ax)"
   ]
  },
  {
   "cell_type": "markdown",
   "metadata": {},
   "source": [
    "### CV후 교차검증 - petal width"
   ]
  },
  {
   "cell_type": "code",
   "execution_count": 224,
   "metadata": {},
   "outputs": [
    {
     "name": "stdout",
     "output_type": "stream",
     "text": [
      "{'learning_rate': 0.4, 'max_depth': 3, 'n_estimators': 10}\n"
     ]
    }
   ],
   "source": [
    "from sklearn.model_selection import GridSearchCV\n",
    "reg_cv = XGBRegressor()\n",
    "xgb_params = {'max_depth' : [3,4, 5, 6],\n",
    "              'n_estimators' : [10, 20, 50, 100, 500,1000],\n",
    "              'learning_rate' : [0.1, 0.2, 0.4, 0.6, 0.8, 1]}\n",
    "grid = GridSearchCV(estimator = reg_cv, param_grid = xgb_params, scoring = 'neg_mean_absolute_error')\n",
    "\n",
    "grid.fit(tr_pet, tr_target_pet)\n",
    "best_param = grid.best_params_\n",
    "print(best_param)"
   ]
  },
  {
   "cell_type": "code",
   "execution_count": 225,
   "metadata": {},
   "outputs": [
    {
     "data": {
      "text/plain": [
       "{'fit_time': array([0.04388213, 0.03091717, 0.03291202, 0.0309155 , 0.03191304]),\n",
       " 'score_time': array([0.01296306, 0.01296735, 0.01296735, 0.01296639, 0.01396513]),\n",
       " 'test_score': array([-0.11942495, -0.19776278, -0.16259066, -0.1425414 , -0.15718262])}"
      ]
     },
     "execution_count": 225,
     "metadata": {},
     "output_type": "execute_result"
    }
   ],
   "source": [
    "reg = XGBRegressor(max_depth = 3, n_estimators = 10,learning_rate = 0.4 )\n",
    "scores = cross_validate(reg,tr_pet, tr_target_pet,scoring='neg_mean_absolute_error')\n",
    "scores"
   ]
  },
  {
   "cell_type": "code",
   "execution_count": 226,
   "metadata": {},
   "outputs": [
    {
     "data": {
      "text/plain": [
       "0.15590047907829283"
      ]
     },
     "execution_count": 226,
     "metadata": {},
     "output_type": "execute_result"
    }
   ],
   "source": [
    "np.mean(scores['test_score'])*(-1) #0.1559004"
   ]
  },
  {
   "cell_type": "code",
   "execution_count": null,
   "metadata": {},
   "outputs": [],
   "source": []
  }
 ],
 "metadata": {
  "kernelspec": {
   "display_name": "Python 3",
   "language": "python",
   "name": "python3"
  },
  "language_info": {
   "codemirror_mode": {
    "name": "ipython",
    "version": 3
   },
   "file_extension": ".py",
   "mimetype": "text/x-python",
   "name": "python",
   "nbconvert_exporter": "python",
   "pygments_lexer": "ipython3",
   "version": "3.8.3"
  }
 },
 "nbformat": 4,
 "nbformat_minor": 4
}
